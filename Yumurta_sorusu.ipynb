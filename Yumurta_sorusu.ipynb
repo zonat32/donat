{
  "nbformat": 4,
  "nbformat_minor": 0,
  "metadata": {
    "colab": {
      "provenance": []
    },
    "kernelspec": {
      "name": "python3",
      "display_name": "Python 3"
    },
    "language_info": {
      "name": "python"
    }
  },
  "cells": [
    {
      "cell_type": "code",
      "execution_count": 4,
      "metadata": {
        "colab": {
          "base_uri": "https://localhost:8080/"
        },
        "id": "cpa4ePoCySsG",
        "outputId": "38c6c83e-9ae0-4208-87c6-2feee4fb5dcd"
      },
      "outputs": [
        {
          "output_type": "stream",
          "name": "stdout",
          "text": [
            "gesammelte eier(heute):105\n",
            "wie viele 12-boxen braucht man:8\n",
            "9\n",
            "1 boxen gebraucht.\n"
          ]
        }
      ],
      "source": [
        "ei_zahl=int(input(\"gesammelte eier(heute):\"))\n",
        "box_zahl=int(input(\"wie viele 12-boxen braucht man:\"))\n",
        "Reste_eier = ei_zahl % (box_zahl * 12)\n",
        "print(Reste_eier)\n",
        "if Reste_eier > 0:\n",
        "    Boxen_6 = Reste_eier // 6\n",
        "    if Boxen_6 > 0:\n",
        "        print(f\"{Boxen_6} boxen gebraucht.\")\n",
        "    else:\n",
        "        print(\"Wir brauchen keine 6-Boxen.\")\n",
        "else:\n",
        "    print(\"Es gibt keine Eier.\")\n",
        "\n"
      ]
    }
  ]
}