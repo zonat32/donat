{
  "nbformat": 4,
  "nbformat_minor": 0,
  "metadata": {
    "colab": {
      "provenance": []
    },
    "kernelspec": {
      "name": "python3",
      "display_name": "Python 3"
    },
    "language_info": {
      "name": "python"
    }
  },
  "cells": [
    {
      "cell_type": "code",
      "execution_count": 2,
      "metadata": {
        "colab": {
          "base_uri": "https://localhost:8080/",
          "height": 106
        },
        "id": "Ng39fL9a3yEt",
        "outputId": "3f186453-1094-4763-ea0d-a416cdf5c0e6"
      },
      "outputs": [
        {
          "output_type": "error",
          "ename": "IndentationError",
          "evalue": "unindent does not match any outer indentation level (<tokenize>, line 5)",
          "traceback": [
            "\u001b[0;36m  File \u001b[0;32m\"<tokenize>\"\u001b[0;36m, line \u001b[0;32m5\u001b[0m\n\u001b[0;31m    else:\u001b[0m\n\u001b[0m    ^\u001b[0m\n\u001b[0;31mIndentationError\u001b[0m\u001b[0;31m:\u001b[0m unindent does not match any outer indentation level\n"
          ]
        }
      ],
      "source": [
        "Kaffe_list=[Espresso,Americano,Latte,Cappucchino,Macchiato,Mocha,Flat White]\n",
        "Kaffe_wahl=input(str(\"Können sie bitte eine Kaffeetyp waehlen:\"))\n",
        " Kaffe_wahl in Kaffe_list:\n",
        "\n",
        "           break\n",
        "       else:\n",
        "           print(\"Ungültige Eingabe. Bitte wählen Sie aus der Liste.\")\n",
        "  Kaffee_preisen = {\n",
        "    \"Espresso\": 2.5,\n",
        "    \"Americano\": 3.0,\n",
        "    \"Latte\": 3.5,\n",
        "    \"Cappucchino\": 3.5,\n",
        "    \"Macchiato\": 3.0,\n",
        "    \"Mocha\": 4.0,\n",
        "    \"Flat White\": 3.5\n",
        "}\n",
        "  Size_wahl=input(str(\"Waehlen sie dei Kaffee size(M,L oder XL):\"))\n",
        "    if Size_wahl == \"L\":\n",
        "      extra_preis = 1.0\n",
        "    elif Size_wahl == \"XL\":\n",
        "      extra_preis = 1.50\n",
        "    else:\n",
        "      extra_preis = 0\n",
        "\n",
        "basis_preis = Kaffee_preisen.get(Kaffe_wahl, 0)\n",
        "total_preis = basis_preis + extra_preis\n",
        "\n",
        "print(f\"Total preis für {Kaffe_wahl}, size {Size_wahl}: {total_preis:.2f}\")\n",
        "\n",
        "\n",
        "\n"
      ]
    }
  ]
}